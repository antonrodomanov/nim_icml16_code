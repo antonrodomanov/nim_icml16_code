{
 "cells": [
  {
   "cell_type": "code",
   "execution_count": null,
   "metadata": {
    "collapsed": true
   },
   "outputs": [],
   "source": [
    "import numpy as np\n",
    "import matplotlib.pyplot as plt\n",
    "import os\n",
    "\n",
    "%matplotlib inline"
   ]
  },
  {
   "cell_type": "code",
   "execution_count": null,
   "metadata": {
    "collapsed": true
   },
   "outputs": [],
   "source": [
    "reg_type = 'l1'\n",
    "datasets = [\n",
    "    {'name': 'a9a', 'n': 32561, 'd': 123},\n",
    "    {'name': 'mushrooms', 'n': 8124, 'd': 112},\n",
    "    {'name': 'ijcnn1', 'n': 49990, 'd': 22},\n",
    "    {'name': 'cod-rna', 'n': 59535, 'd': 8},\n",
    "    {'name': 'covtype', 'n': 581012, 'd': 54},\n",
    "    {'name': 'w8a', 'n': 49749, 'd': 300},\n",
    "    {'name': 'protein', 'n': 145751, 'd': 74},\n",
    "    {'name': 'quantum', 'n': 50000, 'd': 65},\n",
    "    {'name': 'SUSY', 'n': 5000000, 'd': 18},\n",
    "    {'name': 'alpha', 'n': 500000, 'd': 500},\n",
    "]"
   ]
  },
  {
   "cell_type": "code",
   "execution_count": null,
   "metadata": {
    "collapsed": false,
    "scrolled": true
   },
   "outputs": [],
   "source": [
    "# Plot all results\n",
    "\n",
    "methods = [\n",
    "    {'file': '%s.%s.NIM.minibatch_size=100.dat', 'name': 'NIM', 'code': 'nim'},\n",
    "    {'file': '%s.%s.SAG.minibatch_size=10.dat', 'name': 'SAG', 'code': 'sag'},\n",
    "    {'file': '%s.%s.newton.exact=0.dat', 'name': 'Newton Inexact', 'code': 'newton_inexact'},    \n",
    "]\n",
    "if reg_type == 'l2':\n",
    "    methods += [\n",
    "        {'file': '%s.%s.LBFGS.dat', 'name': 'LBFGS', 'code': 'lbfgs'},\n",
    "    ]\n",
    "\n",
    "for dataset in datasets:\n",
    "    # Find optimal function value\n",
    "    f_opt = np.inf\n",
    "    for method in methods:\n",
    "        res_table = np.loadtxt(method['file'] % (reg_type, dataset['name']), skiprows=1)\n",
    "        f_opt = min(f_opt, np.min(res_table[:, 2]))\n",
    "        \n",
    "    # Plot results\n",
    "    for idx in [0, 1]:\n",
    "        plt.figure()\n",
    "        for method in methods:\n",
    "            res_table = np.loadtxt(method['file'] % (reg_type, dataset['name']), skiprows=1)\n",
    "            plt.semilogy(res_table[:, idx], res_table[:, 2] - f_opt,\n",
    "                         label=method['name'], linewidth=2)\n",
    "        plt.grid()\n",
    "        plt.legend()\n",
    "        plt.ylim(1e-13, plt.ylim()[1])\n",
    "        if idx == 0:\n",
    "            plt.xlabel('Epoch')\n",
    "            plt.xlim(0, 50)\n",
    "            add_name = 'epoch'\n",
    "        else:\n",
    "            plt.xlabel('Time')\n",
    "            add_name = 'time'\n",
    "        plt.ylabel('Function minus optimum')\n",
    "        plt.title('Reg_type=%s, Dataset=%s (n=%d, d=%d)' %\n",
    "                  (reg_type, dataset['name'], dataset['n'], dataset['d']))\n",
    "        plt.savefig('pdf/results.%s.%s.%s.pdf' % (reg_type, dataset['name'], add_name))\n",
    "        \n",
    "# Merge into one PDF\n",
    "for tt in ['epoch', 'time']:\n",
    "    fnames = []\n",
    "    for dataset in datasets:\n",
    "        filename = 'pdf/results.%s.%s.%s.pdf' % (reg_type, dataset['name'], tt)\n",
    "        fnames.append(filename)\n",
    "    os.system('pdfunite %s pdf/final/results.%s.%s.pdf' % (' '.join(fnames), reg_type, tt))"
   ]
  },
  {
   "cell_type": "code",
   "execution_count": null,
   "metadata": {
    "collapsed": false
   },
   "outputs": [],
   "source": [
    "# # Plot different minibatch size\n",
    "\n",
    "# minibatch_sizes = [2, 10, 100, 1000, 5000, 10000, 30000]\n",
    "# methods = ['NIM']\n",
    "\n",
    "# for dataset in datasets:\n",
    "#     # Find optimal function value\n",
    "#     f_opt = np.inf\n",
    "#     for method in methods:\n",
    "#         for minibatch_size in minibatch_sizes:\n",
    "#             if minibatch_size > dataset['n']: continue\n",
    "                \n",
    "#             res_table = np.loadtxt('%s.%s.%s.minibatch_size=%d.dat' %\n",
    "#                                    (reg_type, dataset['name'], method, minibatch_size), skiprows=1)\n",
    "#             f_opt = min(f_opt, np.min(res_table[:, 2]))\n",
    "    \n",
    "#     # Plot results\n",
    "#     for method in methods:\n",
    "#         for idx in [0, 1]:\n",
    "#             plt.figure()\n",
    "#             for minibatch_size in minibatch_sizes:\n",
    "#                 if minibatch_size > dataset['n']: continue\n",
    "                    \n",
    "#                 res_table = np.loadtxt('%s.%s.%s.minibatch_size=%d.dat' %\n",
    "#                                    (reg_type, dataset['name'], method, minibatch_size), skiprows=1)\n",
    "#                 plt.semilogy(res_table[:, idx], res_table[:, 2] - f_opt,\n",
    "#                              label='%s %d' % (method, minibatch_size), linewidth=2)\n",
    "#             plt.grid()\n",
    "#             plt.legend()\n",
    "#             plt.ylim(1e-13, plt.ylim()[1])\n",
    "#             if idx == 0:\n",
    "#                 add_name = 'epoch'\n",
    "#                 plt.xlabel('Epoch')\n",
    "#             else:\n",
    "#                 add_name = 'time'\n",
    "#                 plt.xlabel('Time')\n",
    "#             plt.ylabel('Function minus optimum')\n",
    "#             plt.title('Reg_type=%s, Dataset=%s (n=%d, d=%d)' %\n",
    "#                       (reg_type, dataset['name'], dataset['n'], dataset['d']))\n",
    "#             plt.savefig('pdf/minibatch_sizes.%s.%s.%s.%s.pdf' % (reg_type, dataset['name'], method, add_name))\n",
    "            \n",
    "# # Merge PDFs\n",
    "# for method in methods:\n",
    "#     for tt in ['epoch', 'time']:\n",
    "#         fnames = []\n",
    "#         for dataset in datasets:\n",
    "#             filename = 'pdf/minibatch_sizes.%s.%s.%s.%s.pdf' % (reg_type, dataset['name'], method, tt)\n",
    "#             fnames.append(filename)\n",
    "#         os.system('pdfunite %s pdf/final/minibatch_sizes.%s.%s.%s.pdf' % (' '.join(fnames), reg_type, method, tt))"
   ]
  }
 ],
 "metadata": {
  "kernelspec": {
   "display_name": "Python 3",
   "language": "python",
   "name": "python3"
  },
  "language_info": {
   "codemirror_mode": {
    "name": "ipython",
    "version": 3
   },
   "file_extension": ".py",
   "mimetype": "text/x-python",
   "name": "python",
   "nbconvert_exporter": "python",
   "pygments_lexer": "ipython3",
   "version": "3.4.3+"
  }
 },
 "nbformat": 4,
 "nbformat_minor": 0
}
